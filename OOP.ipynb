{
 "cells": [
  {
   "cell_type": "code",
   "execution_count": 24,
   "metadata": {},
   "outputs": [],
   "source": [
    "class Sample():\n",
    "\n",
    "    def __init__(self,regular,basmati,longgrain):\n",
    "        \n",
    "        self.regular = regular\n",
    "        self.basmati = basmati\n",
    "        self.longgrain = longgrain"
   ]
  },
  {
   "cell_type": "code",
   "execution_count": 36,
   "metadata": {},
   "outputs": [],
   "source": [
    "ricelist = Sample(regular='more',basmati='vishal',longgrain=False)"
   ]
  },
  {
   "cell_type": "code",
   "execution_count": 37,
   "metadata": {},
   "outputs": [
    {
     "data": {
      "text/plain": [
       "'vishal'"
      ]
     },
     "execution_count": 37,
     "metadata": {},
     "output_type": "execute_result"
    }
   ],
   "source": [
    "ricelist.basmati"
   ]
  },
  {
   "cell_type": "code",
   "execution_count": 39,
   "metadata": {},
   "outputs": [
    {
     "data": {
      "text/plain": [
       "False"
      ]
     },
     "execution_count": 39,
     "metadata": {},
     "output_type": "execute_result"
    }
   ],
   "source": [
    "ricelist.longgrain"
   ]
  },
  {
   "cell_type": "code",
   "execution_count": 40,
   "metadata": {},
   "outputs": [
    {
     "data": {
      "text/plain": [
       "'more'"
      ]
     },
     "execution_count": 40,
     "metadata": {},
     "output_type": "execute_result"
    }
   ],
   "source": [
    "ricelist.regular"
   ]
  },
  {
   "cell_type": "code",
   "execution_count": 41,
   "metadata": {},
   "outputs": [],
   "source": [
    "class Students():\n",
    "    section='A'\n",
    "    \n",
    "    def __init__(self,name,roll):\n",
    "        \n",
    "        self.name = name\n",
    "        self.roll = roll\n",
    "    \n",
    "    def say(self):\n",
    "        print('Hey my name is {}'.format(self.name))\n",
    "        print('and my rollno is {}'.format(self.roll))\n",
    "        "
   ]
  },
  {
   "cell_type": "code",
   "execution_count": 43,
   "metadata": {},
   "outputs": [],
   "source": [
    "mycred = Students('DheerajSurya','51')"
   ]
  },
  {
   "cell_type": "code",
   "execution_count": 44,
   "metadata": {},
   "outputs": [
    {
     "data": {
      "text/plain": [
       "'DheerajSurya'"
      ]
     },
     "execution_count": 44,
     "metadata": {},
     "output_type": "execute_result"
    }
   ],
   "source": [
    "mycred.name"
   ]
  },
  {
   "cell_type": "code",
   "execution_count": 45,
   "metadata": {},
   "outputs": [
    {
     "data": {
      "text/plain": [
       "'51'"
      ]
     },
     "execution_count": 45,
     "metadata": {},
     "output_type": "execute_result"
    }
   ],
   "source": [
    "mycred.roll"
   ]
  },
  {
   "cell_type": "code",
   "execution_count": 46,
   "metadata": {},
   "outputs": [
    {
     "data": {
      "text/plain": [
       "'A'"
      ]
     },
     "execution_count": 46,
     "metadata": {},
     "output_type": "execute_result"
    }
   ],
   "source": [
    "mycred.section"
   ]
  },
  {
   "cell_type": "code",
   "execution_count": 47,
   "metadata": {},
   "outputs": [
    {
     "data": {
      "text/plain": [
       "<bound method Students.say of <__main__.Students object at 0x053F7FB0>>"
      ]
     },
     "execution_count": 47,
     "metadata": {},
     "output_type": "execute_result"
    }
   ],
   "source": [
    "mycred.say"
   ]
  },
  {
   "cell_type": "code",
   "execution_count": 48,
   "metadata": {},
   "outputs": [
    {
     "name": "stdout",
     "output_type": "stream",
     "text": [
      "Hey my name is DheerajSurya\n",
      "and my rollno is 51\n"
     ]
    }
   ],
   "source": [
    "mycred.say()"
   ]
  },
  {
   "cell_type": "code",
   "execution_count": 58,
   "metadata": {},
   "outputs": [],
   "source": [
    "class Students():\n",
    "    section='A'\n",
    "    \n",
    "    def __init__(self,name1,roll1,name2,roll2):\n",
    "        \n",
    "        self.name1 = name1\n",
    "        self.roll1 = roll1\n",
    "        self.name2 = name2\n",
    "        self.roll2 = roll2        \n",
    "    \n",
    "    def say1(self):\n",
    "        print('Hey my name is {}'.format(self.name1))\n",
    "        print('and my rollno is {}'.format(self.roll1))\n",
    "    def say2(self):\n",
    "        print('Hey my name is {}'.format(self.name2))\n",
    "        print('and my rollno is {}'.format(self.roll2))"
   ]
  },
  {
   "cell_type": "code",
   "execution_count": 51,
   "metadata": {},
   "outputs": [],
   "source": [
    "mycred = Students('DheerajSurya','51','Ajith','11')"
   ]
  },
  {
   "cell_type": "code",
   "execution_count": 52,
   "metadata": {},
   "outputs": [
    {
     "name": "stdout",
     "output_type": "stream",
     "text": [
      "Hey my name is Ajith\n",
      "and my rollno is 11\n"
     ]
    }
   ],
   "source": [
    "mycred.say2()"
   ]
  },
  {
   "cell_type": "code",
   "execution_count": 53,
   "metadata": {},
   "outputs": [],
   "source": [
    "class Students():\n",
    "    section='A'\n",
    "    \n",
    "    def __init__(self,name,roll):\n",
    "        \n",
    "        self.name = name\n",
    "        self.roll = roll\n",
    "    \n",
    "    def say(self,sec):\n",
    "        print('Hey my name is {} and sec is {}'.format(self.name,sec))\n",
    "        print('and my rollno is {}'.format(self.roll))\n",
    "        "
   ]
  },
  {
   "cell_type": "code",
   "execution_count": 54,
   "metadata": {},
   "outputs": [],
   "source": [
    "mycred = Students('DheerajSurya','51')"
   ]
  },
  {
   "cell_type": "code",
   "execution_count": 55,
   "metadata": {},
   "outputs": [
    {
     "ename": "TypeError",
     "evalue": "say() missing 1 required positional argument: 'sec'",
     "output_type": "error",
     "traceback": [
      "\u001b[1;31m---------------------------------------------------------------------------\u001b[0m",
      "\u001b[1;31mTypeError\u001b[0m                                 Traceback (most recent call last)",
      "\u001b[1;32m<ipython-input-55-72490d199775>\u001b[0m in \u001b[0;36m<module>\u001b[1;34m\u001b[0m\n\u001b[1;32m----> 1\u001b[1;33m \u001b[0mmycred\u001b[0m\u001b[1;33m.\u001b[0m\u001b[0msay\u001b[0m\u001b[1;33m(\u001b[0m\u001b[1;33m)\u001b[0m\u001b[1;33m\u001b[0m\u001b[1;33m\u001b[0m\u001b[0m\n\u001b[0m",
      "\u001b[1;31mTypeError\u001b[0m: say() missing 1 required positional argument: 'sec'"
     ]
    }
   ],
   "source": [
    "mycred.say()"
   ]
  },
  {
   "cell_type": "code",
   "execution_count": 57,
   "metadata": {},
   "outputs": [
    {
     "name": "stdout",
     "output_type": "stream",
     "text": [
      "Hey my name is DheerajSurya and sec is J\n",
      "and my rollno is 51\n"
     ]
    }
   ],
   "source": [
    "mycred.say('J')"
   ]
  },
  {
   "cell_type": "code",
   "execution_count": 59,
   "metadata": {},
   "outputs": [],
   "source": [
    "class Circle():\n",
    "    \n",
    "    pi=3.14\n",
    "    \n",
    "    def _init_(self,radius):\n",
    "        self.radius=radius\n",
    "        self.area=radius*radius*self.pi\n",
    "    def circumf(self):\n",
    "        return self.radius*self.pi*2\n",
    "        "
   ]
  },
  {
   "cell_type": "code",
   "execution_count": 60,
   "metadata": {},
   "outputs": [],
   "source": [
    "mycirc = Circle()"
   ]
  },
  {
   "cell_type": "code",
   "execution_count": 61,
   "metadata": {},
   "outputs": [
    {
     "data": {
      "text/plain": [
       "3.14"
      ]
     },
     "execution_count": 61,
     "metadata": {},
     "output_type": "execute_result"
    }
   ],
   "source": [
    "mycirc.pi"
   ]
  },
  {
   "cell_type": "code",
   "execution_count": 62,
   "metadata": {},
   "outputs": [
    {
     "ename": "AttributeError",
     "evalue": "'Circle' object has no attribute 'radius'",
     "output_type": "error",
     "traceback": [
      "\u001b[1;31m---------------------------------------------------------------------------\u001b[0m",
      "\u001b[1;31mAttributeError\u001b[0m                            Traceback (most recent call last)",
      "\u001b[1;32m<ipython-input-62-44fae97ae46c>\u001b[0m in \u001b[0;36m<module>\u001b[1;34m\u001b[0m\n\u001b[1;32m----> 1\u001b[1;33m \u001b[0mmycirc\u001b[0m\u001b[1;33m.\u001b[0m\u001b[0mradius\u001b[0m\u001b[1;33m\u001b[0m\u001b[1;33m\u001b[0m\u001b[0m\n\u001b[0m",
      "\u001b[1;31mAttributeError\u001b[0m: 'Circle' object has no attribute 'radius'"
     ]
    }
   ],
   "source": [
    "mycirc.radius"
   ]
  },
  {
   "cell_type": "code",
   "execution_count": 68,
   "metadata": {},
   "outputs": [],
   "source": [
    "class Circle():\n",
    "    \n",
    "    pi=3.14\n",
    "    \n",
    "    def __init__(self,radius=1):\n",
    "        self.radius = radius\n",
    "        self.area=radius*radius*self.pi\n",
    "    def circumf(self):\n",
    "        return self.radius*self.pi*2"
   ]
  },
  {
   "cell_type": "code",
   "execution_count": 69,
   "metadata": {},
   "outputs": [],
   "source": [
    "mycirc = Circle()"
   ]
  },
  {
   "cell_type": "code",
   "execution_count": 70,
   "metadata": {},
   "outputs": [
    {
     "data": {
      "text/plain": [
       "1"
      ]
     },
     "execution_count": 70,
     "metadata": {},
     "output_type": "execute_result"
    }
   ],
   "source": [
    "mycirc.radius"
   ]
  },
  {
   "cell_type": "code",
   "execution_count": 71,
   "metadata": {},
   "outputs": [],
   "source": [
    "mycirc = Circle(10)"
   ]
  },
  {
   "cell_type": "code",
   "execution_count": 72,
   "metadata": {},
   "outputs": [
    {
     "data": {
      "text/plain": [
       "10"
      ]
     },
     "execution_count": 72,
     "metadata": {},
     "output_type": "execute_result"
    }
   ],
   "source": [
    "mycirc.radius"
   ]
  },
  {
   "cell_type": "code",
   "execution_count": 74,
   "metadata": {},
   "outputs": [
    {
     "data": {
      "text/plain": [
       "314.0"
      ]
     },
     "execution_count": 74,
     "metadata": {},
     "output_type": "execute_result"
    }
   ],
   "source": [
    "mycirc.area"
   ]
  },
  {
   "cell_type": "code",
   "execution_count": 73,
   "metadata": {},
   "outputs": [
    {
     "data": {
      "text/plain": [
       "62.800000000000004"
      ]
     },
     "execution_count": 73,
     "metadata": {},
     "output_type": "execute_result"
    }
   ],
   "source": [
    "mycirc.circumf()"
   ]
  },
  {
   "cell_type": "code",
   "execution_count": 75,
   "metadata": {},
   "outputs": [],
   "source": [
    "\n",
    "class Animal:\n",
    "    def __init__(self):\n",
    "        print(\"Animal created\")\n",
    "\n",
    "    def whoAmI(self):\n",
    "        print(\"Animal\")\n",
    "\n",
    "    def eat(self):\n",
    "        print(\"Eating\")\n",
    "\n"
   ]
  },
  {
   "cell_type": "code",
   "execution_count": 76,
   "metadata": {},
   "outputs": [
    {
     "name": "stdout",
     "output_type": "stream",
     "text": [
      "Animal created\n"
     ]
    }
   ],
   "source": [
    "okay= Animal()"
   ]
  },
  {
   "cell_type": "code",
   "execution_count": 78,
   "metadata": {},
   "outputs": [
    {
     "name": "stdout",
     "output_type": "stream",
     "text": [
      "Eating\n"
     ]
    }
   ],
   "source": [
    "okay.eat()"
   ]
  },
  {
   "cell_type": "code",
   "execution_count": 79,
   "metadata": {},
   "outputs": [
    {
     "name": "stdout",
     "output_type": "stream",
     "text": [
      "Animal\n"
     ]
    }
   ],
   "source": [
    "okay.whoAmI()"
   ]
  },
  {
   "cell_type": "code",
   "execution_count": 80,
   "metadata": {},
   "outputs": [],
   "source": [
    "class Dog(Animal):\n",
    "    def __init__(self):\n",
    "        Animal.__init__(self)\n",
    "        print(\"Dog created\")\n",
    "\n",
    "    def whoAmI(self):\n",
    "        print(\"Dog\")\n",
    "\n",
    "    def bark(self):\n",
    "        print(\"Woof!\")"
   ]
  },
  {
   "cell_type": "code",
   "execution_count": 81,
   "metadata": {},
   "outputs": [
    {
     "name": "stdout",
     "output_type": "stream",
     "text": [
      "Animal created\n",
      "Dog created\n"
     ]
    }
   ],
   "source": [
    "dokay = Dog()"
   ]
  },
  {
   "cell_type": "code",
   "execution_count": 83,
   "metadata": {},
   "outputs": [
    {
     "name": "stdout",
     "output_type": "stream",
     "text": [
      "Eating\n"
     ]
    }
   ],
   "source": [
    "dokay.eat()"
   ]
  },
  {
   "cell_type": "code",
   "execution_count": 84,
   "metadata": {},
   "outputs": [
    {
     "name": "stdout",
     "output_type": "stream",
     "text": [
      "Dog\n"
     ]
    }
   ],
   "source": [
    "dokay.whoAmI()"
   ]
  },
  {
   "cell_type": "code",
   "execution_count": 86,
   "metadata": {},
   "outputs": [
    {
     "name": "stdout",
     "output_type": "stream",
     "text": [
      "Animal\n"
     ]
    }
   ],
   "source": [
    "okay.whoAmI()"
   ]
  },
  {
   "cell_type": "code",
   "execution_count": 87,
   "metadata": {},
   "outputs": [
    {
     "name": "stdout",
     "output_type": "stream",
     "text": [
      "Woof!\n"
     ]
    }
   ],
   "source": [
    "dokay.bark()"
   ]
  },
  {
   "cell_type": "markdown",
   "metadata": {},
   "source": [
    "# homework\n"
   ]
  },
  {
   "cell_type": "code",
   "execution_count": 122,
   "metadata": {},
   "outputs": [],
   "source": [
    "class Line():\n",
    "    \n",
    "    def __init__(self,coor1,coor2):\n",
    "        self.coor1=coor1\n",
    "        self.coor2=coor2\n",
    "    \n",
    "    def distance(self):\n",
    "        x1,y1 = self.coor1\n",
    "        x2,y2 = self.coor2\n",
    "        return ((x2-x1)**2+(y2-y1)**2)**0.5\n",
    "        \n",
    "    \n",
    "    def slope(self):\n",
    "        x1,y1 = self.coor1\n",
    "        x2,y2 = self.coor2\n",
    "        return (y2-y1)/(x2-x1)"
   ]
  },
  {
   "cell_type": "code",
   "execution_count": 126,
   "metadata": {},
   "outputs": [],
   "source": [
    "l = Line((3,2),(8,10))"
   ]
  },
  {
   "cell_type": "code",
   "execution_count": 127,
   "metadata": {},
   "outputs": [
    {
     "data": {
      "text/plain": [
       "9.433981132056603"
      ]
     },
     "execution_count": 127,
     "metadata": {},
     "output_type": "execute_result"
    }
   ],
   "source": [
    "l.distance()"
   ]
  },
  {
   "cell_type": "code",
   "execution_count": 128,
   "metadata": {},
   "outputs": [
    {
     "data": {
      "text/plain": [
       "1.6"
      ]
     },
     "execution_count": 128,
     "metadata": {},
     "output_type": "execute_result"
    }
   ],
   "source": [
    "l.slope()"
   ]
  },
  {
   "cell_type": "code",
   "execution_count": 102,
   "metadata": {},
   "outputs": [],
   "source": [
    "class Cylinder:\n",
    "    \n",
    "    pi = 3.14\n",
    "    \n",
    "    def __init__(self,height=1,radius=1):\n",
    "        self.height=height\n",
    "        self.radius=radius\n",
    "        \n",
    "    def volume(self):\n",
    "        print(self.radius*self.radius*self.height*self.pi)\n",
    "    \n",
    "    def surface_area(self):\n",
    "        print(2*self.pi*self.radius*self.height+2*self.pi*self.radius*self.radius)"
   ]
  },
  {
   "cell_type": "code",
   "execution_count": 103,
   "metadata": {},
   "outputs": [],
   "source": [
    "c = Cylinder(2,3)"
   ]
  },
  {
   "cell_type": "code",
   "execution_count": 104,
   "metadata": {},
   "outputs": [
    {
     "name": "stdout",
     "output_type": "stream",
     "text": [
      "56.52\n"
     ]
    }
   ],
   "source": [
    "c.volume()"
   ]
  },
  {
   "cell_type": "code",
   "execution_count": 105,
   "metadata": {},
   "outputs": [
    {
     "name": "stdout",
     "output_type": "stream",
     "text": [
      "94.19999999999999\n"
     ]
    }
   ],
   "source": [
    "c.surface_area()"
   ]
  },
  {
   "cell_type": "code",
   "execution_count": 158,
   "metadata": {},
   "outputs": [],
   "source": [
    "class Account:\n",
    "    def __init__(self,owner,balance):\n",
    "        self.owner=owner\n",
    "        self.balance=balance\n",
    "        \n",
    "    def deposit(self,depamt):\n",
    "        self.balancee=self.balance+depamt\n",
    "        print(\"DEPOSIT ACCEPTED\")\n",
    "        \n",
    "    def withdraw(self,withamt):\n",
    "        if self.balance>=withamt:\n",
    "            self.balance=self.balance-withamt\n",
    "            print('WITHDRAWL OKAY')\n",
    "        else:\n",
    "            print('WITHDRAWL NOTOKAY')\n",
    "    def __str__(self):\n",
    "        return f\"OWNER: {self.owner} \\nBALANCE: {self.balance}\"\n",
    "        "
   ]
  },
  {
   "cell_type": "code",
   "execution_count": 159,
   "metadata": {},
   "outputs": [],
   "source": [
    "acct1 = Account('Dheerajsurya',1000)"
   ]
  },
  {
   "cell_type": "code",
   "execution_count": 160,
   "metadata": {},
   "outputs": [
    {
     "name": "stdout",
     "output_type": "stream",
     "text": [
      "OWNER: Dheerajsurya \n",
      "BALANCE: 1000\n"
     ]
    }
   ],
   "source": [
    "print(acct1)"
   ]
  },
  {
   "cell_type": "code",
   "execution_count": 161,
   "metadata": {},
   "outputs": [
    {
     "data": {
      "text/plain": [
       "'Dheerajsurya'"
      ]
     },
     "execution_count": 161,
     "metadata": {},
     "output_type": "execute_result"
    }
   ],
   "source": [
    "acct1.owner"
   ]
  },
  {
   "cell_type": "code",
   "execution_count": 162,
   "metadata": {},
   "outputs": [
    {
     "data": {
      "text/plain": [
       "1000"
      ]
     },
     "execution_count": 162,
     "metadata": {},
     "output_type": "execute_result"
    }
   ],
   "source": [
    "acct1.balance"
   ]
  },
  {
   "cell_type": "code",
   "execution_count": 163,
   "metadata": {},
   "outputs": [
    {
     "name": "stdout",
     "output_type": "stream",
     "text": [
      "DEPOSIT ACCEPTED\n"
     ]
    }
   ],
   "source": [
    "acct1.deposit(321)"
   ]
  },
  {
   "cell_type": "code",
   "execution_count": 165,
   "metadata": {},
   "outputs": [
    {
     "name": "stdout",
     "output_type": "stream",
     "text": [
      "WITHDRAWL OKAY\n"
     ]
    }
   ],
   "source": [
    "acct1.withdraw(792)"
   ]
  },
  {
   "cell_type": "code",
   "execution_count": 166,
   "metadata": {},
   "outputs": [
    {
     "name": "stdout",
     "output_type": "stream",
     "text": [
      "WITHDRAWL NOTOKAY\n"
     ]
    }
   ],
   "source": [
    "acct1.withdraw(5000)"
   ]
  },
  {
   "cell_type": "code",
   "execution_count": null,
   "metadata": {},
   "outputs": [],
   "source": []
  }
 ],
 "metadata": {
  "kernelspec": {
   "display_name": "Python 3",
   "language": "python",
   "name": "python3"
  },
  "language_info": {
   "codemirror_mode": {
    "name": "ipython",
    "version": 3
   },
   "file_extension": ".py",
   "mimetype": "text/x-python",
   "name": "python",
   "nbconvert_exporter": "python",
   "pygments_lexer": "ipython3",
   "version": "3.7.6"
  }
 },
 "nbformat": 4,
 "nbformat_minor": 4
}
